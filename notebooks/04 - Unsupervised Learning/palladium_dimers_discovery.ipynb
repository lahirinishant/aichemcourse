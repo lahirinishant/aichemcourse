{
  "cells": [
    {
      "cell_type": "markdown",
      "metadata": {
        "id": "UK9hGmlfBMz7"
      },
      "source": [
        "<a href=\"https://colab.research.google.com/github/schwallergroup/ai4chem_course/blob/main/notebooks/04%20-%20Unsupervised%20Learning/palladium_dimers_discovery.ipynb\" target=\"_parent\"><img src=\"https://colab.research.google.com/assets/colab-badge.svg\" alt=\"Open In Colab\"/></a>"
      ]
    },
    {
      "cell_type": "markdown",
      "metadata": {
        "id": "HIJ75xxqBMz7"
      },
      "source": [
        "# Accelerating palladium catalyst discovery: a practical application of unsupervised learning\n",
        "\n",
        "## Table of content\n",
        "\n",
        "1. Problem introduction\n",
        "2. General clustering\n",
        "3. DFT-specific descriptors\n",
        "4. Final Clustering\n",
        "5. Experimental validation"
      ]
    },
    {
      "cell_type": "markdown",
      "metadata": {
        "id": "ji_JEukSBMz8"
      },
      "source": [
        "In this tutorial we will see how a simple algorithm like k-means can be used to discover new catalysts using few experimental data to guide the next experiments. We will see how a clever use of ML-techniques is able to reveal unintuitive patterns and suggest experiments that would be otherwise ignored.\n",
        "\n",
        "The notebook is based on the work of Hueffel et al. and was published in this [Science](https://www.science.org/doi/full/10.1126/science.abj0999) article in 2021."
      ]
    },
    {
      "cell_type": "markdown",
      "metadata": {
        "id": "LkNPI1BXBMz8"
      },
      "source": [
        "# 0. Relevant packages\n",
        "\n"
      ]
    },
    {
      "cell_type": "markdown",
      "metadata": {
        "id": "lwZNAmcIBMz8"
      },
      "source": [
        "Install usual packages and download the datasets."
      ]
    },
    {
      "cell_type": "code",
      "execution_count": 4,
      "metadata": {
        "id": "AacoJfg7BMz8",
        "outputId": "814b1744-b520-4b05-db07-823bbc67083a",
        "colab": {
          "base_uri": "https://localhost:8080/"
        }
      },
      "outputs": [
        {
          "output_type": "stream",
          "name": "stdout",
          "text": [
            "Requirement already satisfied: scikit-learn in /usr/local/lib/python3.11/dist-packages (1.6.1)\n",
            "Requirement already satisfied: pandas in /usr/local/lib/python3.11/dist-packages (2.2.2)\n",
            "Requirement already satisfied: numpy in /usr/local/lib/python3.11/dist-packages (1.26.4)\n",
            "Requirement already satisfied: matplotlib in /usr/local/lib/python3.11/dist-packages (3.10.0)\n",
            "Requirement already satisfied: seaborn in /usr/local/lib/python3.11/dist-packages (0.13.2)\n",
            "Requirement already satisfied: scipy in /usr/local/lib/python3.11/dist-packages (1.13.1)\n",
            "Requirement already satisfied: tqdm in /usr/local/lib/python3.11/dist-packages (4.67.1)\n",
            "Requirement already satisfied: joblib>=1.2.0 in /usr/local/lib/python3.11/dist-packages (from scikit-learn) (1.4.2)\n",
            "Requirement already satisfied: threadpoolctl>=3.1.0 in /usr/local/lib/python3.11/dist-packages (from scikit-learn) (3.5.0)\n",
            "Requirement already satisfied: python-dateutil>=2.8.2 in /usr/local/lib/python3.11/dist-packages (from pandas) (2.8.2)\n",
            "Requirement already satisfied: pytz>=2020.1 in /usr/local/lib/python3.11/dist-packages (from pandas) (2024.2)\n",
            "Requirement already satisfied: tzdata>=2022.7 in /usr/local/lib/python3.11/dist-packages (from pandas) (2025.1)\n",
            "Requirement already satisfied: contourpy>=1.0.1 in /usr/local/lib/python3.11/dist-packages (from matplotlib) (1.3.1)\n",
            "Requirement already satisfied: cycler>=0.10 in /usr/local/lib/python3.11/dist-packages (from matplotlib) (0.12.1)\n",
            "Requirement already satisfied: fonttools>=4.22.0 in /usr/local/lib/python3.11/dist-packages (from matplotlib) (4.55.7)\n",
            "Requirement already satisfied: kiwisolver>=1.3.1 in /usr/local/lib/python3.11/dist-packages (from matplotlib) (1.4.8)\n",
            "Requirement already satisfied: packaging>=20.0 in /usr/local/lib/python3.11/dist-packages (from matplotlib) (24.2)\n",
            "Requirement already satisfied: pillow>=8 in /usr/local/lib/python3.11/dist-packages (from matplotlib) (11.1.0)\n",
            "Requirement already satisfied: pyparsing>=2.3.1 in /usr/local/lib/python3.11/dist-packages (from matplotlib) (3.2.1)\n",
            "Requirement already satisfied: six>=1.5 in /usr/local/lib/python3.11/dist-packages (from python-dateutil>=2.8.2->pandas) (1.17.0)\n",
            "--2025-02-02 23:12:54--  https://raw.githubusercontent.com/schwallergroup/ai4chem_course/main/notebooks/04%20-%20Unsupervised%20Learning/data/LKB_P.csv\n",
            "Resolving raw.githubusercontent.com (raw.githubusercontent.com)... 185.199.108.133, 185.199.109.133, 185.199.110.133, ...\n",
            "Connecting to raw.githubusercontent.com (raw.githubusercontent.com)|185.199.108.133|:443... connected.\n",
            "HTTP request sent, awaiting response... 200 OK\n",
            "Length: 70133 (68K) [text/plain]\n",
            "Saving to: ‘data/LKB_P.csv’\n",
            "\n",
            "data/LKB_P.csv      100%[===================>]  68.49K  --.-KB/s    in 0.02s   \n",
            "\n",
            "2025-02-02 23:12:54 (3.13 MB/s) - ‘data/LKB_P.csv’ saved [70133/70133]\n",
            "\n",
            "--2025-02-02 23:12:54--  https://raw.githubusercontent.com/schwallergroup/ai4chem_course/main/notebooks/04%20-%20Unsupervised%20Learning/data/Dimer_LKB_P.csv\n",
            "Resolving raw.githubusercontent.com (raw.githubusercontent.com)... 185.199.108.133, 185.199.109.133, 185.199.110.133, ...\n",
            "Connecting to raw.githubusercontent.com (raw.githubusercontent.com)|185.199.108.133|:443... connected.\n",
            "HTTP request sent, awaiting response... 200 OK\n",
            "Length: 39912 (39K) [text/plain]\n",
            "Saving to: ‘data/Dimer_LKB_P.csv’\n",
            "\n",
            "data/Dimer_LKB_P.cs 100%[===================>]  38.98K  --.-KB/s    in 0.01s   \n",
            "\n",
            "2025-02-02 23:12:54 (3.20 MB/s) - ‘data/Dimer_LKB_P.csv’ saved [39912/39912]\n",
            "\n"
          ]
        }
      ],
      "source": [
        "! pip install scikit-learn pandas numpy matplotlib seaborn scipy tqdm\n",
        "\n",
        "! mkdir data\n",
        "! wget https://raw.githubusercontent.com/schwallergroup/ai4chem_course/main/notebooks/04%20-%20Unsupervised%20Learning/data/LKB_P.csv -O data/LKB_P.csv\n",
        "! wget https://raw.githubusercontent.com/schwallergroup/ai4chem_course/main/notebooks/04%20-%20Unsupervised%20Learning/data/Dimer_LKB_P.csv -O data/Dimer_LKB_P.csv"
      ]
    },
    {
      "cell_type": "markdown",
      "metadata": {
        "id": "TDWJGN8YBMz9"
      },
      "source": [
        "# 1. Problem introduction"
      ]
    },
    {
      "cell_type": "markdown",
      "metadata": {
        "id": "NEu47faGBMz-"
      },
      "source": [
        "`Metal speciation` (the distribution of a metal in different physical and chemical forms) is a key property in homogeneous catalysis. This feature plays a crucial role in determining catalyst properties like reactivity or selectivity. Ligands are one of the factors related to metal speciation. Despite the common assumption that structure and reactvity are correlated, the impact of the ligand on catalytic activity is not fully understood, hampering the design of new catalysts.\n",
        "\n",
        "<div align=\"left\">\n",
        "<img src=\"https://github.com/schwallergroup/ai4chem_course/blob/main/notebooks/04%20-%20Unsupervised%20Learning/img/speciation.png?raw=1\" width=\"400\"/>\n",
        "</div>\n",
        "\n",
        "Palladium-catalyzed reactions are one of the most representative transformations involving homogeneous catalysts. Despite the majority of catalytic cycles involve Pd(0) and Pd(II) species, Pd(I) dimers with the [Pd(I)(&mu;-X)P(t-Bu)<sub>3</sub>]<sub>2</sub> motif are specially interesting due to their stability and catalytic performance. However, it is not fully understood why certain ligands favor Pd(I) dimers while others do not, so only few examples of this type of compounds were known.\n",
        "\n",
        "<div align=\"left\">\n",
        "<img src=\"https://github.com/schwallergroup/ai4chem_course/blob/main/notebooks/04%20-%20Unsupervised%20Learning/img/pd.png?raw=1\" width=\"400\"/>\n",
        "</div>\n",
        "\n",
        "The common strategy to discover new species is trial and error. Only 4 ligands promoting Pd(I) state had been discovered using this approach. Different attempts to overcome these limitations were tried. PCA decomposition using 28 general descriptors from a set of 348 monodentate phospine ligands was not able to derive ligand-speciation relationships. On the other hand, DFT calculation of the coprorportionation energy of Pd(0) with Pd(II) to Pd(I) suggested that high exergonicity was related to Pd(I) formation. However, the associated energy of PdCy<sub>3</sub> (non-inducing Pd(I) ligand) was rougly the same than the known Pd(I)-inducing phosphines, thus invalidating this hypothesis.\n",
        "\n",
        "<div align=\"left\">\n",
        "<img src=\"https://github.com/schwallergroup/ai4chem_course/blob/main/notebooks/04%20-%20Unsupervised%20Learning/img/PdDFT.png?raw=1\" width=\"400\"/>\n",
        "</div>\n",
        "\n",
        "Given the few experimental points we have, *could we use unsupervised learning to leverage this knowledge and propose new candidate ligands for Pd(I) dimers discovery?*\n"
      ]
    },
    {
      "cell_type": "markdown",
      "metadata": {
        "id": "RPCI3yMwBMz-"
      },
      "source": [
        "## Exercise 1\n",
        "As a first exercise, we will load the dataframe containing the 348 phosphine ligands and the general descriptors. Each molecule is also classified in one of 8 categories describing the type of ligand. The first 4 principal components of the data are also included. We will verify that PCA is unable to give good insight to the data."
      ]
    },
    {
      "cell_type": "code",
      "execution_count": 5,
      "metadata": {
        "id": "mnFes_0fBMz_",
        "outputId": "6ffb82f0-a308-4aca-9945-727a9a3281fe",
        "colab": {
          "base_uri": "https://localhost:8080/",
          "height": 236
        }
      },
      "outputs": [
        {
          "output_type": "execute_result",
          "data": {
            "text/plain": [
              "   No. Type  E(HOMO)  E(LUMO)  He8_steric      PA   Q(B)  BE(B)    P-B  \\\n",
              "0    1    R -0.24636 -0.00029        2.30  190.60 -0.590  26.10  1.941   \n",
              "1    2    R -0.19045  0.03268        3.00  233.00 -0.680  39.20  1.926   \n",
              "2    3    R -0.27742 -0.05837        3.00  182.30 -0.560  26.30  1.915   \n",
              "3    4    R -0.26620 -0.11270       20.66  194.04 -0.538  22.51  1.924   \n",
              "4    5    R -0.18723  0.02584        6.00  239.10 -0.680  39.00  1.934   \n",
              "\n",
              "   DP-A(B)  ...  BE(Pt)   P-Pt  DP-A(Pt)  DA-P-A(Pt)  <(H3P)Pt(PH3)   S4'  \\\n",
              "0   -0.013  ...    8.80  2.328    -0.001         1.5          109.4  66.9   \n",
              "1   -0.028  ...   12.90  2.331    -0.010         1.3          107.5  39.4   \n",
              "2   -0.002  ...   22.80  2.250     0.008        -0.1          109.0  52.2   \n",
              "3   -0.005  ...   16.58  2.260     0.046        -2.4          106.6  28.7   \n",
              "4   -0.027  ...   17.10  2.338    -0.010         1.6          107.4  39.0   \n",
              "\n",
              "     PC1    PC2    PC3    PC4  \n",
              "0 -3.078  0.798  6.079 -1.066  \n",
              "1  1.602  3.976  1.536  0.090  \n",
              "2 -7.226 -3.302  2.929  2.032  \n",
              "3 -6.715 -9.291  1.348 -0.823  \n",
              "4  2.280  3.408  1.584  0.168  \n",
              "\n",
              "[5 rows x 34 columns]"
            ],
            "text/html": [
              "\n",
              "  <div id=\"df-10431676-449c-44f7-a7c0-d044740fdea4\" class=\"colab-df-container\">\n",
              "    <div>\n",
              "<style scoped>\n",
              "    .dataframe tbody tr th:only-of-type {\n",
              "        vertical-align: middle;\n",
              "    }\n",
              "\n",
              "    .dataframe tbody tr th {\n",
              "        vertical-align: top;\n",
              "    }\n",
              "\n",
              "    .dataframe thead th {\n",
              "        text-align: right;\n",
              "    }\n",
              "</style>\n",
              "<table border=\"1\" class=\"dataframe\">\n",
              "  <thead>\n",
              "    <tr style=\"text-align: right;\">\n",
              "      <th></th>\n",
              "      <th>No.</th>\n",
              "      <th>Type</th>\n",
              "      <th>E(HOMO)</th>\n",
              "      <th>E(LUMO)</th>\n",
              "      <th>He8_steric</th>\n",
              "      <th>PA</th>\n",
              "      <th>Q(B)</th>\n",
              "      <th>BE(B)</th>\n",
              "      <th>P-B</th>\n",
              "      <th>DP-A(B)</th>\n",
              "      <th>...</th>\n",
              "      <th>BE(Pt)</th>\n",
              "      <th>P-Pt</th>\n",
              "      <th>DP-A(Pt)</th>\n",
              "      <th>DA-P-A(Pt)</th>\n",
              "      <th>&lt;(H3P)Pt(PH3)</th>\n",
              "      <th>S4'</th>\n",
              "      <th>PC1</th>\n",
              "      <th>PC2</th>\n",
              "      <th>PC3</th>\n",
              "      <th>PC4</th>\n",
              "    </tr>\n",
              "  </thead>\n",
              "  <tbody>\n",
              "    <tr>\n",
              "      <th>0</th>\n",
              "      <td>1</td>\n",
              "      <td>R</td>\n",
              "      <td>-0.24636</td>\n",
              "      <td>-0.00029</td>\n",
              "      <td>2.30</td>\n",
              "      <td>190.60</td>\n",
              "      <td>-0.590</td>\n",
              "      <td>26.10</td>\n",
              "      <td>1.941</td>\n",
              "      <td>-0.013</td>\n",
              "      <td>...</td>\n",
              "      <td>8.80</td>\n",
              "      <td>2.328</td>\n",
              "      <td>-0.001</td>\n",
              "      <td>1.5</td>\n",
              "      <td>109.4</td>\n",
              "      <td>66.9</td>\n",
              "      <td>-3.078</td>\n",
              "      <td>0.798</td>\n",
              "      <td>6.079</td>\n",
              "      <td>-1.066</td>\n",
              "    </tr>\n",
              "    <tr>\n",
              "      <th>1</th>\n",
              "      <td>2</td>\n",
              "      <td>R</td>\n",
              "      <td>-0.19045</td>\n",
              "      <td>0.03268</td>\n",
              "      <td>3.00</td>\n",
              "      <td>233.00</td>\n",
              "      <td>-0.680</td>\n",
              "      <td>39.20</td>\n",
              "      <td>1.926</td>\n",
              "      <td>-0.028</td>\n",
              "      <td>...</td>\n",
              "      <td>12.90</td>\n",
              "      <td>2.331</td>\n",
              "      <td>-0.010</td>\n",
              "      <td>1.3</td>\n",
              "      <td>107.5</td>\n",
              "      <td>39.4</td>\n",
              "      <td>1.602</td>\n",
              "      <td>3.976</td>\n",
              "      <td>1.536</td>\n",
              "      <td>0.090</td>\n",
              "    </tr>\n",
              "    <tr>\n",
              "      <th>2</th>\n",
              "      <td>3</td>\n",
              "      <td>R</td>\n",
              "      <td>-0.27742</td>\n",
              "      <td>-0.05837</td>\n",
              "      <td>3.00</td>\n",
              "      <td>182.30</td>\n",
              "      <td>-0.560</td>\n",
              "      <td>26.30</td>\n",
              "      <td>1.915</td>\n",
              "      <td>-0.002</td>\n",
              "      <td>...</td>\n",
              "      <td>22.80</td>\n",
              "      <td>2.250</td>\n",
              "      <td>0.008</td>\n",
              "      <td>-0.1</td>\n",
              "      <td>109.0</td>\n",
              "      <td>52.2</td>\n",
              "      <td>-7.226</td>\n",
              "      <td>-3.302</td>\n",
              "      <td>2.929</td>\n",
              "      <td>2.032</td>\n",
              "    </tr>\n",
              "    <tr>\n",
              "      <th>3</th>\n",
              "      <td>4</td>\n",
              "      <td>R</td>\n",
              "      <td>-0.26620</td>\n",
              "      <td>-0.11270</td>\n",
              "      <td>20.66</td>\n",
              "      <td>194.04</td>\n",
              "      <td>-0.538</td>\n",
              "      <td>22.51</td>\n",
              "      <td>1.924</td>\n",
              "      <td>-0.005</td>\n",
              "      <td>...</td>\n",
              "      <td>16.58</td>\n",
              "      <td>2.260</td>\n",
              "      <td>0.046</td>\n",
              "      <td>-2.4</td>\n",
              "      <td>106.6</td>\n",
              "      <td>28.7</td>\n",
              "      <td>-6.715</td>\n",
              "      <td>-9.291</td>\n",
              "      <td>1.348</td>\n",
              "      <td>-0.823</td>\n",
              "    </tr>\n",
              "    <tr>\n",
              "      <th>4</th>\n",
              "      <td>5</td>\n",
              "      <td>R</td>\n",
              "      <td>-0.18723</td>\n",
              "      <td>0.02584</td>\n",
              "      <td>6.00</td>\n",
              "      <td>239.10</td>\n",
              "      <td>-0.680</td>\n",
              "      <td>39.00</td>\n",
              "      <td>1.934</td>\n",
              "      <td>-0.027</td>\n",
              "      <td>...</td>\n",
              "      <td>17.10</td>\n",
              "      <td>2.338</td>\n",
              "      <td>-0.010</td>\n",
              "      <td>1.6</td>\n",
              "      <td>107.4</td>\n",
              "      <td>39.0</td>\n",
              "      <td>2.280</td>\n",
              "      <td>3.408</td>\n",
              "      <td>1.584</td>\n",
              "      <td>0.168</td>\n",
              "    </tr>\n",
              "  </tbody>\n",
              "</table>\n",
              "<p>5 rows × 34 columns</p>\n",
              "</div>\n",
              "    <div class=\"colab-df-buttons\">\n",
              "\n",
              "  <div class=\"colab-df-container\">\n",
              "    <button class=\"colab-df-convert\" onclick=\"convertToInteractive('df-10431676-449c-44f7-a7c0-d044740fdea4')\"\n",
              "            title=\"Convert this dataframe to an interactive table.\"\n",
              "            style=\"display:none;\">\n",
              "\n",
              "  <svg xmlns=\"http://www.w3.org/2000/svg\" height=\"24px\" viewBox=\"0 -960 960 960\">\n",
              "    <path d=\"M120-120v-720h720v720H120Zm60-500h600v-160H180v160Zm220 220h160v-160H400v160Zm0 220h160v-160H400v160ZM180-400h160v-160H180v160Zm440 0h160v-160H620v160ZM180-180h160v-160H180v160Zm440 0h160v-160H620v160Z\"/>\n",
              "  </svg>\n",
              "    </button>\n",
              "\n",
              "  <style>\n",
              "    .colab-df-container {\n",
              "      display:flex;\n",
              "      gap: 12px;\n",
              "    }\n",
              "\n",
              "    .colab-df-convert {\n",
              "      background-color: #E8F0FE;\n",
              "      border: none;\n",
              "      border-radius: 50%;\n",
              "      cursor: pointer;\n",
              "      display: none;\n",
              "      fill: #1967D2;\n",
              "      height: 32px;\n",
              "      padding: 0 0 0 0;\n",
              "      width: 32px;\n",
              "    }\n",
              "\n",
              "    .colab-df-convert:hover {\n",
              "      background-color: #E2EBFA;\n",
              "      box-shadow: 0px 1px 2px rgba(60, 64, 67, 0.3), 0px 1px 3px 1px rgba(60, 64, 67, 0.15);\n",
              "      fill: #174EA6;\n",
              "    }\n",
              "\n",
              "    .colab-df-buttons div {\n",
              "      margin-bottom: 4px;\n",
              "    }\n",
              "\n",
              "    [theme=dark] .colab-df-convert {\n",
              "      background-color: #3B4455;\n",
              "      fill: #D2E3FC;\n",
              "    }\n",
              "\n",
              "    [theme=dark] .colab-df-convert:hover {\n",
              "      background-color: #434B5C;\n",
              "      box-shadow: 0px 1px 3px 1px rgba(0, 0, 0, 0.15);\n",
              "      filter: drop-shadow(0px 1px 2px rgba(0, 0, 0, 0.3));\n",
              "      fill: #FFFFFF;\n",
              "    }\n",
              "  </style>\n",
              "\n",
              "    <script>\n",
              "      const buttonEl =\n",
              "        document.querySelector('#df-10431676-449c-44f7-a7c0-d044740fdea4 button.colab-df-convert');\n",
              "      buttonEl.style.display =\n",
              "        google.colab.kernel.accessAllowed ? 'block' : 'none';\n",
              "\n",
              "      async function convertToInteractive(key) {\n",
              "        const element = document.querySelector('#df-10431676-449c-44f7-a7c0-d044740fdea4');\n",
              "        const dataTable =\n",
              "          await google.colab.kernel.invokeFunction('convertToInteractive',\n",
              "                                                    [key], {});\n",
              "        if (!dataTable) return;\n",
              "\n",
              "        const docLinkHtml = 'Like what you see? Visit the ' +\n",
              "          '<a target=\"_blank\" href=https://colab.research.google.com/notebooks/data_table.ipynb>data table notebook</a>'\n",
              "          + ' to learn more about interactive tables.';\n",
              "        element.innerHTML = '';\n",
              "        dataTable['output_type'] = 'display_data';\n",
              "        await google.colab.output.renderOutput(dataTable, element);\n",
              "        const docLink = document.createElement('div');\n",
              "        docLink.innerHTML = docLinkHtml;\n",
              "        element.appendChild(docLink);\n",
              "      }\n",
              "    </script>\n",
              "  </div>\n",
              "\n",
              "\n",
              "<div id=\"df-ef413d5c-d406-4148-a8dc-391ee2a15831\">\n",
              "  <button class=\"colab-df-quickchart\" onclick=\"quickchart('df-ef413d5c-d406-4148-a8dc-391ee2a15831')\"\n",
              "            title=\"Suggest charts\"\n",
              "            style=\"display:none;\">\n",
              "\n",
              "<svg xmlns=\"http://www.w3.org/2000/svg\" height=\"24px\"viewBox=\"0 0 24 24\"\n",
              "     width=\"24px\">\n",
              "    <g>\n",
              "        <path d=\"M19 3H5c-1.1 0-2 .9-2 2v14c0 1.1.9 2 2 2h14c1.1 0 2-.9 2-2V5c0-1.1-.9-2-2-2zM9 17H7v-7h2v7zm4 0h-2V7h2v10zm4 0h-2v-4h2v4z\"/>\n",
              "    </g>\n",
              "</svg>\n",
              "  </button>\n",
              "\n",
              "<style>\n",
              "  .colab-df-quickchart {\n",
              "      --bg-color: #E8F0FE;\n",
              "      --fill-color: #1967D2;\n",
              "      --hover-bg-color: #E2EBFA;\n",
              "      --hover-fill-color: #174EA6;\n",
              "      --disabled-fill-color: #AAA;\n",
              "      --disabled-bg-color: #DDD;\n",
              "  }\n",
              "\n",
              "  [theme=dark] .colab-df-quickchart {\n",
              "      --bg-color: #3B4455;\n",
              "      --fill-color: #D2E3FC;\n",
              "      --hover-bg-color: #434B5C;\n",
              "      --hover-fill-color: #FFFFFF;\n",
              "      --disabled-bg-color: #3B4455;\n",
              "      --disabled-fill-color: #666;\n",
              "  }\n",
              "\n",
              "  .colab-df-quickchart {\n",
              "    background-color: var(--bg-color);\n",
              "    border: none;\n",
              "    border-radius: 50%;\n",
              "    cursor: pointer;\n",
              "    display: none;\n",
              "    fill: var(--fill-color);\n",
              "    height: 32px;\n",
              "    padding: 0;\n",
              "    width: 32px;\n",
              "  }\n",
              "\n",
              "  .colab-df-quickchart:hover {\n",
              "    background-color: var(--hover-bg-color);\n",
              "    box-shadow: 0 1px 2px rgba(60, 64, 67, 0.3), 0 1px 3px 1px rgba(60, 64, 67, 0.15);\n",
              "    fill: var(--button-hover-fill-color);\n",
              "  }\n",
              "\n",
              "  .colab-df-quickchart-complete:disabled,\n",
              "  .colab-df-quickchart-complete:disabled:hover {\n",
              "    background-color: var(--disabled-bg-color);\n",
              "    fill: var(--disabled-fill-color);\n",
              "    box-shadow: none;\n",
              "  }\n",
              "\n",
              "  .colab-df-spinner {\n",
              "    border: 2px solid var(--fill-color);\n",
              "    border-color: transparent;\n",
              "    border-bottom-color: var(--fill-color);\n",
              "    animation:\n",
              "      spin 1s steps(1) infinite;\n",
              "  }\n",
              "\n",
              "  @keyframes spin {\n",
              "    0% {\n",
              "      border-color: transparent;\n",
              "      border-bottom-color: var(--fill-color);\n",
              "      border-left-color: var(--fill-color);\n",
              "    }\n",
              "    20% {\n",
              "      border-color: transparent;\n",
              "      border-left-color: var(--fill-color);\n",
              "      border-top-color: var(--fill-color);\n",
              "    }\n",
              "    30% {\n",
              "      border-color: transparent;\n",
              "      border-left-color: var(--fill-color);\n",
              "      border-top-color: var(--fill-color);\n",
              "      border-right-color: var(--fill-color);\n",
              "    }\n",
              "    40% {\n",
              "      border-color: transparent;\n",
              "      border-right-color: var(--fill-color);\n",
              "      border-top-color: var(--fill-color);\n",
              "    }\n",
              "    60% {\n",
              "      border-color: transparent;\n",
              "      border-right-color: var(--fill-color);\n",
              "    }\n",
              "    80% {\n",
              "      border-color: transparent;\n",
              "      border-right-color: var(--fill-color);\n",
              "      border-bottom-color: var(--fill-color);\n",
              "    }\n",
              "    90% {\n",
              "      border-color: transparent;\n",
              "      border-bottom-color: var(--fill-color);\n",
              "    }\n",
              "  }\n",
              "</style>\n",
              "\n",
              "  <script>\n",
              "    async function quickchart(key) {\n",
              "      const quickchartButtonEl =\n",
              "        document.querySelector('#' + key + ' button');\n",
              "      quickchartButtonEl.disabled = true;  // To prevent multiple clicks.\n",
              "      quickchartButtonEl.classList.add('colab-df-spinner');\n",
              "      try {\n",
              "        const charts = await google.colab.kernel.invokeFunction(\n",
              "            'suggestCharts', [key], {});\n",
              "      } catch (error) {\n",
              "        console.error('Error during call to suggestCharts:', error);\n",
              "      }\n",
              "      quickchartButtonEl.classList.remove('colab-df-spinner');\n",
              "      quickchartButtonEl.classList.add('colab-df-quickchart-complete');\n",
              "    }\n",
              "    (() => {\n",
              "      let quickchartButtonEl =\n",
              "        document.querySelector('#df-ef413d5c-d406-4148-a8dc-391ee2a15831 button');\n",
              "      quickchartButtonEl.style.display =\n",
              "        google.colab.kernel.accessAllowed ? 'block' : 'none';\n",
              "    })();\n",
              "  </script>\n",
              "</div>\n",
              "\n",
              "    </div>\n",
              "  </div>\n"
            ],
            "application/vnd.google.colaboratory.intrinsic+json": {
              "type": "dataframe",
              "variable_name": "ligands"
            }
          },
          "metadata": {},
          "execution_count": 5
        }
      ],
      "source": [
        "import pandas as pd\n",
        "import matplotlib.pyplot as plt\n",
        "\n",
        "# Load ligand information\n",
        "ligands = pd.read_csv('data/LKB_P.csv', sep=';')\n",
        "\n",
        "ligands.head()"
      ]
    },
    {
      "cell_type": "markdown",
      "metadata": {
        "id": "ke5mnCx9BMz_"
      },
      "source": [
        "Now, plot the ligands using PC1 and PC2, displaying also the ligand label (from the 'Type' column)."
      ]
    },
    {
      "cell_type": "code",
      "execution_count": 6,
      "metadata": {
        "id": "UKp0OMueBMz_",
        "outputId": "8ee70791-10e3-473b-c4f9-630e88097ed4",
        "colab": {
          "base_uri": "https://localhost:8080/",
          "height": 472
        }
      },
      "outputs": [
        {
          "output_type": "display_data",
          "data": {
            "text/plain": [
              "<Figure size 640x480 with 1 Axes>"
            ],
            "image/png": "[encoded data removed]"
          },
          "metadata": {}
        }
      ],
      "source": [
        "import numpy as np\n",
        "#YOUR CODE\n",
        "# Create a colormap for the unique types\n",
        "unique_types = ligands['Type'].unique()\n",
        "colors = plt.cm.rainbow(np.linspace(0, 1, len(unique_types)))  # Assign a unique color to each type\n",
        "color_map = dict(zip(unique_types, colors))  # Map each type to a color\n",
        "\n",
        "# Assign colors based on 'Type'\n",
        "ligands['Color'] = ligands['Type'].map(color_map)\n",
        "\n",
        "# Plot scatter with colors\n",
        "for type_label, color in color_map.items():\n",
        "    subset = ligands[ligands['Type'] == type_label]\n",
        "    plt.scatter(subset[\"PC1\"], subset[\"PC2\"], label=type_label, color=color)\n",
        "\n",
        "plt.xlabel(\"PC1\")\n",
        "plt.ylabel(\"PC2\")\n",
        "plt.title(\"Scatter Plot with Legend\")\n",
        "\n",
        "# Add legend\n",
        "plt.legend(title=\"Type\", bbox_to_anchor=(1.05, 1), loc='upper left')\n",
        "\n",
        "plt.show()"
      ]
    },
    {
      "cell_type": "markdown",
      "metadata": {
        "id": "qYj_QFBEBMz_"
      },
      "source": [
        "Verify that the PCA decomposition is unable to separate Pd(I) inducing ligands from the non-inducing ligand. For this purpose, plot the dataset again and remark the datapoints that correspond to the target ligands."
      ]
    },
    {
      "cell_type": "code",
      "execution_count": 7,
      "metadata": {
        "id": "W0yAUoFRBMz_",
        "outputId": "710e4aeb-498e-4676-cada-71d1e998b788",
        "colab": {
          "base_uri": "https://localhost:8080/",
          "height": 472
        }
      },
      "outputs": [
        {
          "output_type": "display_data",
          "data": {
            "text/plain": [
              "<Figure size 640x480 with 1 Axes>"
            ],
            "image/png": "[encoded data removed]"
          },
          "metadata": {}
        }
      ],
      "source": [
        "#These are the indices of the positive (Pd(I) inducing) and negative ligands\n",
        "pos_refs = [16, 41, 54, 113]\n",
        "neg_refs = [21]\n",
        "\n",
        "#YOUR CODE\n",
        "# Create a colormap for the unique types\n",
        "unique_types = ligands['Type'].unique()\n",
        "colors = plt.cm.rainbow(np.linspace(0, 1, len(unique_types)))  # Assign a unique color to each type\n",
        "color_map = dict(zip(unique_types, colors))  # Map each type to a color\n",
        "\n",
        "# Assign colors based on 'Type'\n",
        "ligands['Color'] = ligands['Type'].map(color_map)\n",
        "\n",
        "# Plot all data points\n",
        "for type_label, color in color_map.items():\n",
        "    subset = ligands[ligands['Type'] == type_label]\n",
        "    plt.scatter(subset[\"PC1\"], subset[\"PC2\"], label=type_label, color=color, alpha=0.5)\n",
        "\n",
        "# Highlight positive Pd(I) inducing ligands\n",
        "plt.scatter(ligands.loc[pos_refs, \"PC1\"], ligands.loc[pos_refs, \"PC2\"],\n",
        "            color='red', edgecolors='black', s=100, label=\"Pd(I) Inducing\")\n",
        "\n",
        "# Highlight negative ligand\n",
        "plt.scatter(ligands.loc[neg_refs, \"PC1\"], ligands.loc[neg_refs, \"PC2\"],\n",
        "            color='blue', edgecolors='black', s=100, label=\"Non-Inducing\")\n",
        "\n",
        "plt.xlabel(\"PC1\")\n",
        "plt.ylabel(\"PC2\")\n",
        "plt.title(\"PCA Scatter Plot - Pd(I) Inducing Ligands\")\n",
        "\n",
        "# Add legend\n",
        "plt.legend(title=\"Type\", bbox_to_anchor=(1.05, 1), loc='upper left')\n",
        "\n",
        "plt.show()"
      ]
    },
    {
      "cell_type": "markdown",
      "metadata": {
        "id": "EidfcTPUBMz_"
      },
      "source": [
        "You can clearly see how we are not able to extract clear information from PCA. Two of the Pd(I)-inducing ligands are closer to the non-inducing ligand than to the other known ligands, indicating that this analysis is not enough to suggest new species."
      ]
    },
    {
      "cell_type": "markdown",
      "metadata": {
        "id": "Q5QQ52TSBMz_"
      },
      "source": [
        "# 2. General property clustering"
      ]
    },
    {
      "cell_type": "markdown",
      "metadata": {
        "id": "_V27ib3EBMz_"
      },
      "source": [
        "Time to change the approach! First, we will see if k-means algorithm is able to cluster our ligands efficiently. This will allow us to reduce the number of possible molecules we have to consider for experimental screening."
      ]
    },
    {
      "cell_type": "markdown",
      "metadata": {
        "id": "r2oXv8G-BMz_"
      },
      "source": [
        "Try to run a k-Means clustering on the data using different values of k and select the best parameters based on the inertia, distorition and silhouette score."
      ]
    },
    {
      "cell_type": "code",
      "execution_count": 8,
      "metadata": {
        "id": "_xvp6QcCBMz_",
        "outputId": "ed7b232a-a2a9-4731-f746-47046761a24e",
        "colab": {
          "base_uri": "https://localhost:8080/",
          "height": 80
        }
      },
      "outputs": [
        {
          "output_type": "execute_result",
          "data": {
            "text/plain": [
              "KMeans(n_clusters=4, n_init=10)"
            ],
            "text/html": [
              "<style>#sk-container-id-1 {\n",
              "  /* Definition of color scheme common for light and dark mode */\n",
              "  --sklearn-color-text: #000;\n",
              "  --sklearn-color-text-muted: #666;\n",
              "  --sklearn-color-line: gray;\n",
              "  /* Definition of color scheme for unfitted estimators */\n",
              "  --sklearn-color-unfitted-level-0: #fff5e6;\n",
              "  --sklearn-color-unfitted-level-1: #f6e4d2;\n",
              "  --sklearn-color-unfitted-level-2: #ffe0b3;\n",
              "  --sklearn-color-unfitted-level-3: chocolate;\n",
              "  /* Definition of color scheme for fitted estimators */\n",
              "  --sklearn-color-fitted-level-0: #f0f8ff;\n",
              "  --sklearn-color-fitted-level-1: #d4ebff;\n",
              "  --sklearn-color-fitted-level-2: #b3dbfd;\n",
              "  --sklearn-color-fitted-level-3: cornflowerblue;\n",
              "\n",
              "  /* Specific color for light theme */\n",
              "  --sklearn-color-text-on-default-background: var(--sg-text-color, var(--theme-code-foreground, var(--jp-content-font-color1, black)));\n",
              "  --sklearn-color-background: var(--sg-background-color, var(--theme-background, var(--jp-layout-color0, white)));\n",
              "  --sklearn-color-border-box: var(--sg-text-color, var(--theme-code-foreground, var(--jp-content-font-color1, black)));\n",
              "  --sklearn-color-icon: #696969;\n",
              "\n",
              "  @media (prefers-color-scheme: dark) {\n",
              "    /* Redefinition of color scheme for dark theme */\n",
              "    --sklearn-color-text-on-default-background: var(--sg-text-color, var(--theme-code-foreground, var(--jp-content-font-color1, white)));\n",
              "    --sklearn-color-background: var(--sg-background-color, var(--theme-background, var(--jp-layout-color0, #111)));\n",
              "    --sklearn-color-border-box: var(--sg-text-color, var(--theme-code-foreground, var(--jp-content-font-color1, white)));\n",
              "    --sklearn-color-icon: #878787;\n",
              "  }\n",
              "}\n",
              "\n",
              "#sk-container-id-1 {\n",
              "  color: var(--sklearn-color-text);\n",
              "}\n",
              "\n",
              "#sk-container-id-1 pre {\n",
              "  padding: 0;\n",
              "}\n",
              "\n",
              "#sk-container-id-1 input.sk-hidden--visually {\n",
              "  border: 0;\n",
              "  clip: rect(1px 1px 1px 1px);\n",
              "  clip: rect(1px, 1px, 1px, 1px);\n",
              "  height: 1px;\n",
              "  margin: -1px;\n",
              "  overflow: hidden;\n",
              "  padding: 0;\n",
              "  position: absolute;\n",
              "  width: 1px;\n",
              "}\n",
              "\n",
              "#sk-container-id-1 div.sk-dashed-wrapped {\n",
              "  border: 1px dashed var(--sklearn-color-line);\n",
              "  margin: 0 0.4em 0.5em 0.4em;\n",
              "  box-sizing: border-box;\n",
              "  padding-bottom: 0.4em;\n",
              "  background-color: var(--sklearn-color-background);\n",
              "}\n",
              "\n",
              "#sk-container-id-1 div.sk-container {\n",
              "  /* jupyter's `normalize.less` sets `[hidden] { display: none; }`\n",
              "     but bootstrap.min.css set `[hidden] { display: none !important; }`\n",
              "     so we also need the `!important` here to be able to override the\n",
              "     default hidden behavior on the sphinx rendered scikit-learn.org.\n",
              "     See: https://github.com/scikit-learn/scikit-learn/issues/21755 */\n",
              "  display: inline-block !important;\n",
              "  position: relative;\n",
              "}\n",
              "\n",
              "#sk-container-id-1 div.sk-text-repr-fallback {\n",
              "  display: none;\n",
              "}\n",
              "\n",
              "div.sk-parallel-item,\n",
              "div.sk-serial,\n",
              "div.sk-item {\n",
              "  /* draw centered vertical line to link estimators */\n",
              "  background-image: linear-gradient(var(--sklearn-color-text-on-default-background), var(--sklearn-color-text-on-default-background));\n",
              "  background-size: 2px 100%;\n",
              "  background-repeat: no-repeat;\n",
              "  background-position: center center;\n",
              "}\n",
              "\n",
              "/* Parallel-specific style estimator block */\n",
              "\n",
              "#sk-container-id-1 div.sk-parallel-item::after {\n",
              "  content: \"\";\n",
              "  width: 100%;\n",
              "  border-bottom: 2px solid var(--sklearn-color-text-on-default-background);\n",
              "  flex-grow: 1;\n",
              "}\n",
              "\n",
              "#sk-container-id-1 div.sk-parallel {\n",
              "  display: flex;\n",
              "  align-items: stretch;\n",
              "  justify-content: center;\n",
              "  background-color: var(--sklearn-color-background);\n",
              "  position: relative;\n",
              "}\n",
              "\n",
              "#sk-container-id-1 div.sk-parallel-item {\n",
              "  display: flex;\n",
              "  flex-direction: column;\n",
              "}\n",
              "\n",
              "#sk-container-id-1 div.sk-parallel-item:first-child::after {\n",
              "  align-self: flex-end;\n",
              "  width: 50%;\n",
              "}\n",
              "\n",
              "#sk-container-id-1 div.sk-parallel-item:last-child::after {\n",
              "  align-self: flex-start;\n",
              "  width: 50%;\n",
              "}\n",
              "\n",
              "#sk-container-id-1 div.sk-parallel-item:only-child::after {\n",
              "  width: 0;\n",
              "}\n",
              "\n",
              "/* Serial-specific style estimator block */\n",
              "\n",
              "#sk-container-id-1 div.sk-serial {\n",
              "  display: flex;\n",
              "  flex-direction: column;\n",
              "  align-items: center;\n",
              "  background-color: var(--sklearn-color-background);\n",
              "  padding-right: 1em;\n",
              "  padding-left: 1em;\n",
              "}\n",
              "\n",
              "\n",
              "/* Toggleable style: style used for estimator/Pipeline/ColumnTransformer box that is\n",
              "clickable and can be expanded/collapsed.\n",
              "- Pipeline and ColumnTransformer use this feature and define the default style\n",
              "- Estimators will overwrite some part of the style using the `sk-estimator` class\n",
              "*/\n",
              "\n",
              "/* Pipeline and ColumnTransformer style (default) */\n",
              "\n",
              "#sk-container-id-1 div.sk-toggleable {\n",
              "  /* Default theme specific background. It is overwritten whether we have a\n",
              "  specific estimator or a Pipeline/ColumnTransformer */\n",
              "  background-color: var(--sklearn-color-background);\n",
              "}\n",
              "\n",
              "/* Toggleable label */\n",
              "#sk-container-id-1 label.sk-toggleable__label {\n",
              "  cursor: pointer;\n",
              "  display: flex;\n",
              "  width: 100%;\n",
              "  margin-bottom: 0;\n",
              "  padding: 0.5em;\n",
              "  box-sizing: border-box;\n",
              "  text-align: center;\n",
              "  align-items: start;\n",
              "  justify-content: space-between;\n",
              "  gap: 0.5em;\n",
              "}\n",
              "\n",
              "#sk-container-id-1 label.sk-toggleable__label .caption {\n",
              "  font-size: 0.6rem;\n",
              "  font-weight: lighter;\n",
              "  color: var(--sklearn-color-text-muted);\n",
              "}\n",
              "\n",
              "#sk-container-id-1 label.sk-toggleable__label-arrow:before {\n",
              "  /* Arrow on the left of the label */\n",
              "  content: \"▸\";\n",
              "  float: left;\n",
              "  margin-right: 0.25em;\n",
              "  color: var(--sklearn-color-icon);\n",
              "}\n",
              "\n",
              "#sk-container-id-1 label.sk-toggleable__label-arrow:hover:before {\n",
              "  color: var(--sklearn-color-text);\n",
              "}\n",
              "\n",
              "/* Toggleable content - dropdown */\n",
              "\n",
              "#sk-container-id-1 div.sk-toggleable__content {\n",
              "  max-height: 0;\n",
              "  max-width: 0;\n",
              "  overflow: hidden;\n",
              "  text-align: left;\n",
              "  /* unfitted */\n",
              "  background-color: var(--sklearn-color-unfitted-level-0);\n",
              "}\n",
              "\n",
              "#sk-container-id-1 div.sk-toggleable__content.fitted {\n",
              "  /* fitted */\n",
              "  background-color: var(--sklearn-color-fitted-level-0);\n",
              "}\n",
              "\n",
              "#sk-container-id-1 div.sk-toggleable__content pre {\n",
              "  margin: 0.2em;\n",
              "  border-radius: 0.25em;\n",
              "  color: var(--sklearn-color-text);\n",
              "  /* unfitted */\n",
              "  background-color: var(--sklearn-color-unfitted-level-0);\n",
              "}\n",
              "\n",
              "#sk-container-id-1 div.sk-toggleable__content.fitted pre {\n",
              "  /* unfitted */\n",
              "  background-color: var(--sklearn-color-fitted-level-0);\n",
              "}\n",
              "\n",
              "#sk-container-id-1 input.sk-toggleable__control:checked~div.sk-toggleable__content {\n",
              "  /* Expand drop-down */\n",
              "  max-height: 200px;\n",
              "  max-width: 100%;\n",
              "  overflow: auto;\n",
              "}\n",
              "\n",
              "#sk-container-id-1 input.sk-toggleable__control:checked~label.sk-toggleable__label-arrow:before {\n",
              "  content: \"▾\";\n",
              "}\n",
              "\n",
              "/* Pipeline/ColumnTransformer-specific style */\n",
              "\n",
              "#sk-container-id-1 div.sk-label input.sk-toggleable__control:checked~label.sk-toggleable__label {\n",
              "  color: var(--sklearn-color-text);\n",
              "  background-color: var(--sklearn-color-unfitted-level-2);\n",
              "}\n",
              "\n",
              "#sk-container-id-1 div.sk-label.fitted input.sk-toggleable__control:checked~label.sk-toggleable__label {\n",
              "  background-color: var(--sklearn-color-fitted-level-2);\n",
              "}\n",
              "\n",
              "/* Estimator-specific style */\n",
              "\n",
              "/* Colorize estimator box */\n",
              "#sk-container-id-1 div.sk-estimator input.sk-toggleable__control:checked~label.sk-toggleable__label {\n",
              "  /* unfitted */\n",
              "  background-color: var(--sklearn-color-unfitted-level-2);\n",
              "}\n",
              "\n",
              "#sk-container-id-1 div.sk-estimator.fitted input.sk-toggleable__control:checked~label.sk-toggleable__label {\n",
              "  /* fitted */\n",
              "  background-color: var(--sklearn-color-fitted-level-2);\n",
              "}\n",
              "\n",
              "#sk-container-id-1 div.sk-label label.sk-toggleable__label,\n",
              "#sk-container-id-1 div.sk-label label {\n",
              "  /* The background is the default theme color */\n",
              "  color: var(--sklearn-color-text-on-default-background);\n",
              "}\n",
              "\n",
              "/* On hover, darken the color of the background */\n",
              "#sk-container-id-1 div.sk-label:hover label.sk-toggleable__label {\n",
              "  color: var(--sklearn-color-text);\n",
              "  background-color: var(--sklearn-color-unfitted-level-2);\n",
              "}\n",
              "\n",
              "/* Label box, darken color on hover, fitted */\n",
              "#sk-container-id-1 div.sk-label.fitted:hover label.sk-toggleable__label.fitted {\n",
              "  color: var(--sklearn-color-text);\n",
              "  background-color: var(--sklearn-color-fitted-level-2);\n",
              "}\n",
              "\n",
              "/* Estimator label */\n",
              "\n",
              "#sk-container-id-1 div.sk-label label {\n",
              "  font-family: monospace;\n",
              "  font-weight: bold;\n",
              "  display: inline-block;\n",
              "  line-height: 1.2em;\n",
              "}\n",
              "\n",
              "#sk-container-id-1 div.sk-label-container {\n",
              "  text-align: center;\n",
              "}\n",
              "\n",
              "/* Estimator-specific */\n",
              "#sk-container-id-1 div.sk-estimator {\n",
              "  font-family: monospace;\n",
              "  border: 1px dotted var(--sklearn-color-border-box);\n",
              "  border-radius: 0.25em;\n",
              "  box-sizing: border-box;\n",
              "  margin-bottom: 0.5em;\n",
              "  /* unfitted */\n",
              "  background-color: var(--sklearn-color-unfitted-level-0);\n",
              "}\n",
              "\n",
              "#sk-container-id-1 div.sk-estimator.fitted {\n",
              "  /* fitted */\n",
              "  background-color: var(--sklearn-color-fitted-level-0);\n",
              "}\n",
              "\n",
              "/* on hover */\n",
              "#sk-container-id-1 div.sk-estimator:hover {\n",
              "  /* unfitted */\n",
              "  background-color: var(--sklearn-color-unfitted-level-2);\n",
              "}\n",
              "\n",
              "#sk-container-id-1 div.sk-estimator.fitted:hover {\n",
              "  /* fitted */\n",
              "  background-color: var(--sklearn-color-fitted-level-2);\n",
              "}\n",
              "\n",
              "/* Specification for estimator info (e.g. \"i\" and \"?\") */\n",
              "\n",
              "/* Common style for \"i\" and \"?\" */\n",
              "\n",
              ".sk-estimator-doc-link,\n",
              "a:link.sk-estimator-doc-link,\n",
              "a:visited.sk-estimator-doc-link {\n",
              "  float: right;\n",
              "  font-size: smaller;\n",
              "  line-height: 1em;\n",
              "  font-family: monospace;\n",
              "  background-color: var(--sklearn-color-background);\n",
              "  border-radius: 1em;\n",
              "  height: 1em;\n",
              "  width: 1em;\n",
              "  text-decoration: none !important;\n",
              "  margin-left: 0.5em;\n",
              "  text-align: center;\n",
              "  /* unfitted */\n",
              "  border: var(--sklearn-color-unfitted-level-1) 1pt solid;\n",
              "  color: var(--sklearn-color-unfitted-level-1);\n",
              "}\n",
              "\n",
              ".sk-estimator-doc-link.fitted,\n",
              "a:link.sk-estimator-doc-link.fitted,\n",
              "a:visited.sk-estimator-doc-link.fitted {\n",
              "  /* fitted */\n",
              "  border: var(--sklearn-color-fitted-level-1) 1pt solid;\n",
              "  color: var(--sklearn-color-fitted-level-1);\n",
              "}\n",
              "\n",
              "/* On hover */\n",
              "div.sk-estimator:hover .sk-estimator-doc-link:hover,\n",
              ".sk-estimator-doc-link:hover,\n",
              "div.sk-label-container:hover .sk-estimator-doc-link:hover,\n",
              ".sk-estimator-doc-link:hover {\n",
              "  /* unfitted */\n",
              "  background-color: var(--sklearn-color-unfitted-level-3);\n",
              "  color: var(--sklearn-color-background);\n",
              "  text-decoration: none;\n",
              "}\n",
              "\n",
              "div.sk-estimator.fitted:hover .sk-estimator-doc-link.fitted:hover,\n",
              ".sk-estimator-doc-link.fitted:hover,\n",
              "div.sk-label-container:hover .sk-estimator-doc-link.fitted:hover,\n",
              ".sk-estimator-doc-link.fitted:hover {\n",
              "  /* fitted */\n",
              "  background-color: var(--sklearn-color-fitted-level-3);\n",
              "  color: var(--sklearn-color-background);\n",
              "  text-decoration: none;\n",
              "}\n",
              "\n",
              "/* Span, style for the box shown on hovering the info icon */\n",
              ".sk-estimator-doc-link span {\n",
              "  display: none;\n",
              "  z-index: 9999;\n",
              "  position: relative;\n",
              "  font-weight: normal;\n",
              "  right: .2ex;\n",
              "  padding: .5ex;\n",
              "  margin: .5ex;\n",
              "  width: min-content;\n",
              "  min-width: 20ex;\n",
              "  max-width: 50ex;\n",
              "  color: var(--sklearn-color-text);\n",
              "  box-shadow: 2pt 2pt 4pt #999;\n",
              "  /* unfitted */\n",
              "  background: var(--sklearn-color-unfitted-level-0);\n",
              "  border: .5pt solid var(--sklearn-color-unfitted-level-3);\n",
              "}\n",
              "\n",
              ".sk-estimator-doc-link.fitted span {\n",
              "  /* fitted */\n",
              "  background: var(--sklearn-color-fitted-level-0);\n",
              "  border: var(--sklearn-color-fitted-level-3);\n",
              "}\n",
              "\n",
              ".sk-estimator-doc-link:hover span {\n",
              "  display: block;\n",
              "}\n",
              "\n",
              "/* \"?\"-specific style due to the `<a>` HTML tag */\n",
              "\n",
              "#sk-container-id-1 a.estimator_doc_link {\n",
              "  float: right;\n",
              "  font-size: 1rem;\n",
              "  line-height: 1em;\n",
              "  font-family: monospace;\n",
              "  background-color: var(--sklearn-color-background);\n",
              "  border-radius: 1rem;\n",
              "  height: 1rem;\n",
              "  width: 1rem;\n",
              "  text-decoration: none;\n",
              "  /* unfitted */\n",
              "  color: var(--sklearn-color-unfitted-level-1);\n",
              "  border: var(--sklearn-color-unfitted-level-1) 1pt solid;\n",
              "}\n",
              "\n",
              "#sk-container-id-1 a.estimator_doc_link.fitted {\n",
              "  /* fitted */\n",
              "  border: var(--sklearn-color-fitted-level-1) 1pt solid;\n",
              "  color: var(--sklearn-color-fitted-level-1);\n",
              "}\n",
              "\n",
              "/* On hover */\n",
              "#sk-container-id-1 a.estimator_doc_link:hover {\n",
              "  /* unfitted */\n",
              "  background-color: var(--sklearn-color-unfitted-level-3);\n",
              "  color: var(--sklearn-color-background);\n",
              "  text-decoration: none;\n",
              "}\n",
              "\n",
              "#sk-container-id-1 a.estimator_doc_link.fitted:hover {\n",
              "  /* fitted */\n",
              "  background-color: var(--sklearn-color-fitted-level-3);\n",
              "}\n",
              "</style><div id=\"sk-container-id-1\" class=\"sk-top-container\"><div class=\"sk-text-repr-fallback\"><pre>KMeans(n_clusters=4, n_init=10)</pre><b>In a Jupyter environment, please rerun this cell to show the HTML representation or trust the notebook. <br />On GitHub, the HTML representation is unable to render, please try loading this page with nbviewer.org.</b></div><div class=\"sk-container\" hidden><div class=\"sk-item\"><div class=\"sk-estimator fitted sk-toggleable\"><input class=\"sk-toggleable__control sk-hidden--visually\" id=\"sk-estimator-id-1\" type=\"checkbox\" checked><label for=\"sk-estimator-id-1\" class=\"sk-toggleable__label fitted sk-toggleable__label-arrow\"><div><div>KMeans</div></div><div><a class=\"sk-estimator-doc-link fitted\" rel=\"noreferrer\" target=\"_blank\" href=\"https://scikit-learn.org/1.6/modules/generated/sklearn.cluster.KMeans.html\">?<span>Documentation for KMeans</span></a><span class=\"sk-estimator-doc-link fitted\">i<span>Fitted</span></span></div></label><div class=\"sk-toggleable__content fitted\"><pre>KMeans(n_clusters=4, n_init=10)</pre></div> </div></div></div></div>"
            ]
          },
          "metadata": {},
          "execution_count": 8
        }
      ],
      "source": [
        "from sklearn.cluster import KMeans\n",
        "# Here we provide the columns you should use. First, you should standardize the data\n",
        "process = ['E(HOMO)', 'E(LUMO)', 'He8_steric', 'PA', 'Q(B)', 'BE(B)', 'P-B', 'DP-A(B)', 'DA-P-A(B)', 'Q(Au)', 'BE(Au)',\n",
        "           'Au-Cl', 'Au-P', 'DP-A(Au)', 'DA-P-A(Au)', 'Q(Pd)', 'BE(Pd)', 'Pd-Cl trans', 'P-Pd', 'DP-A(Pd)',\n",
        "           'DA-P-A(Pd)', 'Q(Pt)', 'BE(Pt)', 'P-Pt', 'DP-A(Pt)', 'DA-P-A(Pt)', '<(H3P)Pt(PH3)', \"S4'\"]\n",
        "# Columns in the data set to exclude from clustering\n",
        "drop = ['Type', \"PC1\", \"PC2\", \"PC3\", \"PC4\"]\n",
        "\n",
        "###YORU CODE\n",
        "n_clusters = 4\n",
        "kmeans = KMeans(n_clusters=n_clusters, n_init=10, init='k-means++', random_state=42)\n",
        "kmeans.fit(ligands[process])\n",
        "\n"
      ]
    },
    {
      "cell_type": "markdown",
      "metadata": {
        "id": "oneJbMcZBMz_"
      },
      "source": [
        "Plot metrics to select the best k based on this analysis."
      ]
    },
    {
      "cell_type": "code",
      "execution_count": 12,
      "metadata": {
        "id": "3SHipfwKBMz_",
        "outputId": "43bea78c-71ef-4418-ccc3-369da1c22185",
        "colab": {
          "base_uri": "https://localhost:8080/",
          "height": 515
        }
      },
      "outputs": [
        {
          "output_type": "display_data",
          "data": {
            "text/plain": [
              "<Figure size 1200x500 with 2 Axes>"
            ],
            "image/png": "[encoded data removed]"
          },
          "metadata": {}
        }
      ],
      "source": [
        "### YOUR CODE\n",
        "from sklearn.metrics import silhouette_score\n",
        "\n",
        "min_clusters = 2\n",
        "max_clusters = 10\n",
        "#KMeans(n_clusters=n_clusters, n_init=10, init='k-means++', random_state=42)\n",
        "fig, (ax1, ax2) = plt.subplots(1, 2, figsize=(12, 5))\n",
        "fig.suptitle(f'{\"KMeans\"}')\n",
        "inertia = []\n",
        "silhouette_scores = []\n",
        "for n_clusters in range(min_clusters, max_clusters + 1):\n",
        "  kmeans.set_params(n_clusters=n_clusters)\n",
        "  labels = kmeans.fit_predict(ligands[process])\n",
        "  inertia.append(kmeans.inertia_)\n",
        "  silhouette_scores.append(silhouette_score(ligands[process], labels))\n",
        "ax1.plot(range(min_clusters, max_clusters + 1), inertia, label=\"KMeans\")\n",
        "ax2.plot(range(min_clusters, max_clusters + 1), silhouette_scores, label=\"KMeans\")\n",
        "\n",
        "ax1.set_xlabel(\"Number of clusters\")\n",
        "ax1.set_ylabel(\"Inertia\")\n",
        "ax1.legend()\n",
        "\n",
        "ax2.set_xlabel(\"Number of clusters\")\n",
        "ax2.set_ylabel(\"Silhouette Score\")\n",
        "ax2.legend()\n",
        "\n",
        "plt.show()"
      ]
    },
    {
      "cell_type": "markdown",
      "metadata": {
        "id": "9y0kH4FABMz_"
      },
      "source": [
        "The inertia and distortin method do not suggest a clear k. Silhouette method may suggest an optimal k around 7."
      ]
    },
    {
      "cell_type": "markdown",
      "metadata": {
        "id": "9lImXcnkBMz_"
      },
      "source": [
        "## Optional\n",
        "\n",
        "In the original publication, they choose an optimal number of clusters equal to 8 (due to the similar scores achieved by k between 6 and 8 and the fact that the original classes of ligands was 8). Build a k-Means model with k=8 and fit it with 1000 different random seeds. Then, count how many times each ligand is grouped in the same cluster of the positive (Pd(I)-inducing) ligands."
      ]
    },
    {
      "cell_type": "code",
      "execution_count": null,
      "metadata": {
        "id": "ippcXt4_BMz_"
      },
      "outputs": [],
      "source": [
        "## YOUR CODE"
      ]
    },
    {
      "cell_type": "markdown",
      "metadata": {
        "id": "5a3OxABaBMz_"
      },
      "source": [
        "This way we obtain a statistics dataframe that can be used to filter the ligands based on the Score (normalized number of times that a given ligand is clustered with the reference ligands). Take the ligands that are grouped with the positive group more than 75% of the time."
      ]
    },
    {
      "cell_type": "code",
      "execution_count": null,
      "metadata": {
        "id": "bG4ncD02BMz_"
      },
      "outputs": [],
      "source": [
        "## YOUR CODE"
      ]
    },
    {
      "cell_type": "markdown",
      "metadata": {
        "id": "A1pFm7LaBM0A"
      },
      "source": [
        "Visualize the indices of the clustered ligands and verify that number 21 (non-inducing ligand) is not included in this group. This array of indices can be used to select and filter the original data."
      ]
    },
    {
      "cell_type": "code",
      "execution_count": null,
      "metadata": {
        "id": "jAsc8o1tBM0A"
      },
      "outputs": [],
      "source": [
        "## YOUR CODE"
      ]
    },
    {
      "cell_type": "markdown",
      "metadata": {
        "id": "FsEmS89cBM0A"
      },
      "source": [
        "Check also that this group of ligands contains mixed ligand types."
      ]
    },
    {
      "cell_type": "code",
      "execution_count": null,
      "metadata": {
        "id": "wO0eM8VZBM0A"
      },
      "outputs": [],
      "source": [
        "## YOUR CODE"
      ]
    },
    {
      "cell_type": "markdown",
      "metadata": {
        "id": "zHiyrNORBM0A"
      },
      "source": [
        "Great! We have got rid of the nasty non-inducing ligand. Besides, our selected cluster now contains different types of ligands. This is a good first step."
      ]
    },
    {
      "cell_type": "markdown",
      "metadata": {
        "id": "ASSH-NWzBM0A"
      },
      "source": [
        "# 3. DFT-specific descriptors"
      ]
    },
    {
      "cell_type": "markdown",
      "metadata": {
        "id": "j533ygZsBM0A"
      },
      "source": [
        "The first clustering reduced the candidate ligands space to ~25% of the original size, keeping 89 ligands from the list of 348. A subsequent k-means clustering using the general descriptors in order to refine this first filtering failed. Therefore, the descriptors needed to be tuned for this specific problem. DFT-specific descriptors related to the Pd(I) iodine bridge were calculated and included in the dataset (a total of 42 new descriptors).\n",
        "\n",
        "We will not calculate all the DFT descriptors, but just load the dataset containing the refined ligands. This dataframe only contains 66 ligands as the calculations were only done for ligands containing P-C bonds."
      ]
    },
    {
      "cell_type": "code",
      "execution_count": null,
      "metadata": {
        "id": "eLI1KPOPBM0A",
        "outputId": "02ccaf4b-3a78-4a6d-f8cb-db3b62a1584a"
      },
      "outputs": [
        {
          "data": {
            "text/html": [
              "<div>\n",
              "<style scoped>\n",
              "    .dataframe tbody tr th:only-of-type {\n",
              "        vertical-align: middle;\n",
              "    }\n",
              "\n",
              "    .dataframe tbody tr th {\n",
              "        vertical-align: top;\n",
              "    }\n",
              "\n",
              "    .dataframe thead th {\n",
              "        text-align: right;\n",
              "    }\n",
              "</style>\n",
              "<table border=\"1\" class=\"dataframe\">\n",
              "  <thead>\n",
              "    <tr style=\"text-align: right;\">\n",
              "      <th></th>\n",
              "      <th>No.</th>\n",
              "      <th>Type</th>\n",
              "      <th>E(HOMO)</th>\n",
              "      <th>E(LUMO)</th>\n",
              "      <th>He8_steric</th>\n",
              "      <th>PA</th>\n",
              "      <th>Q(Pd)</th>\n",
              "      <th>BE(Pd)</th>\n",
              "      <th>Pd-Cl trans</th>\n",
              "      <th>P-Pd</th>\n",
              "      <th>...</th>\n",
              "      <th>G_NBO_Pd</th>\n",
              "      <th>G_NBO_P</th>\n",
              "      <th>G_LENGTH_Pd_P</th>\n",
              "      <th>G_LENGTH_Pd_Pd</th>\n",
              "      <th>G_TORSION_Pd_I_I_Pd</th>\n",
              "      <th>G_ORDER_Pd_Pd</th>\n",
              "      <th>PC1'</th>\n",
              "      <th>PC2'</th>\n",
              "      <th>PC3'</th>\n",
              "      <th>PC4'</th>\n",
              "    </tr>\n",
              "  </thead>\n",
              "  <tbody>\n",
              "    <tr>\n",
              "      <th>0</th>\n",
              "      <td>15</td>\n",
              "      <td>R</td>\n",
              "      <td>-0.17500</td>\n",
              "      <td>0.02350</td>\n",
              "      <td>37.82</td>\n",
              "      <td>247.52</td>\n",
              "      <td>-1.257</td>\n",
              "      <td>30.03</td>\n",
              "      <td>2.379</td>\n",
              "      <td>2.337</td>\n",
              "      <td>...</td>\n",
              "      <td>-0.379685</td>\n",
              "      <td>1.297005</td>\n",
              "      <td>2.312152</td>\n",
              "      <td>3.226557</td>\n",
              "      <td>103.059842</td>\n",
              "      <td>0.1171</td>\n",
              "      <td>-0.986788</td>\n",
              "      <td>0.414056</td>\n",
              "      <td>0.017615</td>\n",
              "      <td>-0.632639</td>\n",
              "    </tr>\n",
              "    <tr>\n",
              "      <th>1</th>\n",
              "      <td>16</td>\n",
              "      <td>R</td>\n",
              "      <td>-0.17267</td>\n",
              "      <td>0.02754</td>\n",
              "      <td>23.38</td>\n",
              "      <td>250.80</td>\n",
              "      <td>-1.200</td>\n",
              "      <td>23.90</td>\n",
              "      <td>2.382</td>\n",
              "      <td>2.418</td>\n",
              "      <td>...</td>\n",
              "      <td>-0.278010</td>\n",
              "      <td>1.232615</td>\n",
              "      <td>2.413734</td>\n",
              "      <td>4.305073</td>\n",
              "      <td>174.451579</td>\n",
              "      <td>0.0264</td>\n",
              "      <td>1.198717</td>\n",
              "      <td>1.162347</td>\n",
              "      <td>0.901051</td>\n",
              "      <td>-0.055612</td>\n",
              "    </tr>\n",
              "    <tr>\n",
              "      <th>2</th>\n",
              "      <td>19</td>\n",
              "      <td>R</td>\n",
              "      <td>-0.18340</td>\n",
              "      <td>0.01900</td>\n",
              "      <td>31.31</td>\n",
              "      <td>243.63</td>\n",
              "      <td>-1.282</td>\n",
              "      <td>28.25</td>\n",
              "      <td>2.377</td>\n",
              "      <td>2.308</td>\n",
              "      <td>...</td>\n",
              "      <td>-0.340260</td>\n",
              "      <td>1.205245</td>\n",
              "      <td>2.314010</td>\n",
              "      <td>3.620629</td>\n",
              "      <td>124.149654</td>\n",
              "      <td>0.0713</td>\n",
              "      <td>-0.146169</td>\n",
              "      <td>-0.318877</td>\n",
              "      <td>0.877642</td>\n",
              "      <td>-0.227544</td>\n",
              "    </tr>\n",
              "    <tr>\n",
              "      <th>3</th>\n",
              "      <td>36</td>\n",
              "      <td>R</td>\n",
              "      <td>-0.17840</td>\n",
              "      <td>0.02300</td>\n",
              "      <td>19.69</td>\n",
              "      <td>245.86</td>\n",
              "      <td>-1.275</td>\n",
              "      <td>34.79</td>\n",
              "      <td>2.379</td>\n",
              "      <td>2.321</td>\n",
              "      <td>...</td>\n",
              "      <td>-0.365385</td>\n",
              "      <td>1.280040</td>\n",
              "      <td>2.317294</td>\n",
              "      <td>3.187955</td>\n",
              "      <td>101.341176</td>\n",
              "      <td>0.1254</td>\n",
              "      <td>-1.135555</td>\n",
              "      <td>0.275201</td>\n",
              "      <td>0.181931</td>\n",
              "      <td>-0.516078</td>\n",
              "    </tr>\n",
              "    <tr>\n",
              "      <th>4</th>\n",
              "      <td>37</td>\n",
              "      <td>R</td>\n",
              "      <td>-0.17790</td>\n",
              "      <td>0.02220</td>\n",
              "      <td>18.53</td>\n",
              "      <td>246.58</td>\n",
              "      <td>-1.253</td>\n",
              "      <td>35.72</td>\n",
              "      <td>2.380</td>\n",
              "      <td>2.334</td>\n",
              "      <td>...</td>\n",
              "      <td>-0.387150</td>\n",
              "      <td>1.284050</td>\n",
              "      <td>2.346424</td>\n",
              "      <td>3.102411</td>\n",
              "      <td>95.391197</td>\n",
              "      <td>0.1369</td>\n",
              "      <td>-0.904739</td>\n",
              "      <td>0.447820</td>\n",
              "      <td>0.106396</td>\n",
              "      <td>-0.301205</td>\n",
              "    </tr>\n",
              "  </tbody>\n",
              "</table>\n",
              "<p>5 rows × 62 columns</p>\n",
              "</div>"
            ],
            "text/plain": [
              "   No. Type  E(HOMO)  E(LUMO)  He8_steric      PA  Q(Pd)  BE(Pd)  Pd-Cl trans  \\\n",
              "0   15    R -0.17500  0.02350       37.82  247.52 -1.257   30.03        2.379   \n",
              "1   16    R -0.17267  0.02754       23.38  250.80 -1.200   23.90        2.382   \n",
              "2   19    R -0.18340  0.01900       31.31  243.63 -1.282   28.25        2.377   \n",
              "3   36    R -0.17840  0.02300       19.69  245.86 -1.275   34.79        2.379   \n",
              "4   37    R -0.17790  0.02220       18.53  246.58 -1.253   35.72        2.380   \n",
              "\n",
              "    P-Pd  ...  G_NBO_Pd   G_NBO_P  G_LENGTH_Pd_P  G_LENGTH_Pd_Pd  \\\n",
              "0  2.337  ... -0.379685  1.297005       2.312152        3.226557   \n",
              "1  2.418  ... -0.278010  1.232615       2.413734        4.305073   \n",
              "2  2.308  ... -0.340260  1.205245       2.314010        3.620629   \n",
              "3  2.321  ... -0.365385  1.280040       2.317294        3.187955   \n",
              "4  2.334  ... -0.387150  1.284050       2.346424        3.102411   \n",
              "\n",
              "   G_TORSION_Pd_I_I_Pd  G_ORDER_Pd_Pd      PC1'      PC2'      PC3'      PC4'  \n",
              "0           103.059842         0.1171 -0.986788  0.414056  0.017615 -0.632639  \n",
              "1           174.451579         0.0264  1.198717  1.162347  0.901051 -0.055612  \n",
              "2           124.149654         0.0713 -0.146169 -0.318877  0.877642 -0.227544  \n",
              "3           101.341176         0.1254 -1.135555  0.275201  0.181931 -0.516078  \n",
              "4            95.391197         0.1369 -0.904739  0.447820  0.106396 -0.301205  \n",
              "\n",
              "[5 rows x 62 columns]"
            ]
          },
          "execution_count": 30,
          "metadata": {},
          "output_type": "execute_result"
        }
      ],
      "source": [
        "#Load and visualize the dataframe containing DFT-specific descriptors (the Dimer_LKB_P.csv file)\n",
        "## YOUR CODE\n"
      ]
    },
    {
      "cell_type": "markdown",
      "metadata": {
        "id": "ScZwRqT9BM0A"
      },
      "source": [
        "# 4. Final clustering: unraveling new ligands"
      ]
    },
    {
      "cell_type": "markdown",
      "metadata": {
        "id": "N-ckQI1-BM0A"
      },
      "source": [
        "Once the new descriptors were calculated, we can try a second k-Means clustering to see if we can reduce even more our candidate space. Repeat the same clusterig process to select the optimum k."
      ]
    },
    {
      "cell_type": "code",
      "execution_count": null,
      "metadata": {
        "id": "yrIhmklEBM0A"
      },
      "outputs": [],
      "source": [
        "# Columns in the data set to exclude\n",
        "drop = [\"Type\", \"PC1\", \"PC2\", \"PC3\", \"PC4\", \"PC1'\", \"PC2'\", \"PC3'\", \"PC4'\"]\n",
        "\n",
        "#adjust the references of the positive ligands in the new dataframe\n",
        "refs = [1, 8, 18, 36]\n",
        "\n",
        "## YOUR CODE"
      ]
    },
    {
      "cell_type": "markdown",
      "metadata": {
        "id": "PeMBecSXBM0A"
      },
      "source": [
        "Plot the metrics"
      ]
    },
    {
      "cell_type": "code",
      "execution_count": null,
      "metadata": {
        "id": "sdGUwPxUBM0B"
      },
      "outputs": [],
      "source": [
        "## YOUR CODE"
      ]
    },
    {
      "cell_type": "markdown",
      "metadata": {
        "id": "DTo_myFXBM0D"
      },
      "source": [
        "In this case, the metrics again do not seem very informative."
      ]
    },
    {
      "cell_type": "markdown",
      "metadata": {
        "id": "VESirL3lBM0D"
      },
      "source": [
        "## Optional\n",
        "\n",
        "In the original publication, they choose an optimal number of clusters equal to 6. Build a k-Means model with k=6 and fit it with 1000 different random seeds. Then, count how many times each ligand is grouped in the same cluster of the positive ligands."
      ]
    },
    {
      "cell_type": "code",
      "execution_count": null,
      "metadata": {
        "id": "YfWi2MxGBM0E"
      },
      "outputs": [],
      "source": [
        "## YOUR CODE"
      ]
    },
    {
      "cell_type": "markdown",
      "metadata": {
        "id": "lcv9BDcNBM0E"
      },
      "source": [
        "Now, select the ligands that are grouped in the same clusters than our reference ligands more than 50% of the time."
      ]
    },
    {
      "cell_type": "code",
      "execution_count": null,
      "metadata": {
        "id": "NqD7CJJVBM0E"
      },
      "outputs": [],
      "source": [
        "## YOUR CODE"
      ]
    },
    {
      "cell_type": "markdown",
      "metadata": {
        "id": "yHcKOZwCBM0E"
      },
      "source": [
        "# 5. Experimental validation"
      ]
    },
    {
      "cell_type": "markdown",
      "metadata": {
        "id": "3wewJOAfBM0E"
      },
      "source": [
        "The second clustering grouped 21 new ligands together with the 4 already known Pd(I) dimer-inducer ligands. These predictions were tested experimentally, and these were the results:\n",
        "\n",
        "<div align=\"left\">\n",
        "<img src=\"https://github.com/schwallergroup/ai4chem_course/blob/main/notebooks/04%20-%20Unsupervised%20Learning/img/exp_validation.png?raw=1\" width=\"400\"/>\n",
        "</div>\n",
        "\n",
        "8 new dimers were discovered! Quite an impressive result given the low amount of previous data and the poor understanding of ligand-speciation relationship. You can check the structures of the proposed ligands in the SI of the original paper, and realize how different these molecules are. Probably, a human researcher would have discarded them, but ML was able to point out the similarities and provide meaningful counterintuitive experimental suggestions."
      ]
    },
    {
      "cell_type": "markdown",
      "metadata": {
        "id": "TFRu20PzBM0E"
      },
      "source": [
        "# Conclusion"
      ]
    },
    {
      "cell_type": "markdown",
      "metadata": {
        "id": "8QXqWpA7BM0E"
      },
      "source": [
        "In this notebook, you have seen how a simple algorithm like k-means can be very powerful if applied wisely. Researchers at the interface of ML and Chemistry can combine both domains to obtain impressive results. We hope this example motivates you to keep learning more!\n",
        "\n",
        "Finally, [here](https://github.com/J-Hueffel/PdDimer) is the repo from the original publication, in case you want to check the code. We would also like to acknowledge the [Schoenebeck](https://www.schoenebeck.oc.rwth-aachen.de/) group for this fantastic work."
      ]
    }
  ],
  "metadata": {
    "kernelspec": {
      "display_name": "Python 3.9.12 ('base')",
      "language": "python",
      "name": "python3"
    },
    "language_info": {
      "codemirror_mode": {
        "name": "ipython",
        "version": 3
      },
      "file_extension": ".py",
      "mimetype": "text/x-python",
      "name": "python",
      "nbconvert_exporter": "python",
      "pygments_lexer": "ipython3",
      "version": "3.9.12"
    },
    "orig_nbformat": 4,
    "vscode": {
      "interpreter": {
        "hash": "1be16fbddf550357e4e46540ee01bc6d12a48d7bc56fc8427cd30121d5943dc8"
      }
    },
    "colab": {
      "provenance": []
    }
  },
  "nbformat": 4,
  "nbformat_minor": 0
}